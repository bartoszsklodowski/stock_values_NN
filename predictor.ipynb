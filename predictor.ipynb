{
 "cells": [
  {
   "cell_type": "code",
   "execution_count": 1,
   "metadata": {},
   "outputs": [
    {
     "name": "stderr",
     "output_type": "stream",
     "text": [
      "2023-01-18 21:34:01.466265: I tensorflow/core/platform/cpu_feature_guard.cc:193] This TensorFlow binary is optimized with oneAPI Deep Neural Network Library (oneDNN) to use the following CPU instructions in performance-critical operations:  AVX2 AVX512F AVX512_VNNI FMA\n",
      "To enable them in other operations, rebuild TensorFlow with the appropriate compiler flags.\n",
      "2023-01-18 21:34:01.674438: I tensorflow/core/util/port.cc:104] oneDNN custom operations are on. You may see slightly different numerical results due to floating-point round-off errors from different computation orders. To turn them off, set the environment variable `TF_ENABLE_ONEDNN_OPTS=0`.\n",
      "2023-01-18 21:34:01.680061: W tensorflow/compiler/xla/stream_executor/platform/default/dso_loader.cc:64] Could not load dynamic library 'libcudart.so.11.0'; dlerror: libcudart.so.11.0: cannot open shared object file: No such file or directory\n",
      "2023-01-18 21:34:01.680076: I tensorflow/compiler/xla/stream_executor/cuda/cudart_stub.cc:29] Ignore above cudart dlerror if you do not have a GPU set up on your machine.\n",
      "2023-01-18 21:34:02.487675: W tensorflow/compiler/xla/stream_executor/platform/default/dso_loader.cc:64] Could not load dynamic library 'libnvinfer.so.7'; dlerror: libnvinfer.so.7: cannot open shared object file: No such file or directory\n",
      "2023-01-18 21:34:02.487724: W tensorflow/compiler/xla/stream_executor/platform/default/dso_loader.cc:64] Could not load dynamic library 'libnvinfer_plugin.so.7'; dlerror: libnvinfer_plugin.so.7: cannot open shared object file: No such file or directory\n",
      "2023-01-18 21:34:02.487728: W tensorflow/compiler/tf2tensorrt/utils/py_utils.cc:38] TF-TRT Warning: Cannot dlopen some TensorRT libraries. If you would like to use Nvidia GPU with TensorRT, please make sure the missing libraries mentioned above are installed properly.\n"
     ]
    }
   ],
   "source": [
    "from statistics import mean, stdev\n",
    "import numpy as np\n",
    "from typing import Any, Dict, Pattern, Set, Union, List\n",
    "import plotly.express as px\n",
    "import matplotlib.pyplot as plt\n",
    "import pandas as pd\n",
    "from sklearn.preprocessing import StandardScaler\n",
    "import tensorflow as tf\n",
    "import matplotlib.pyplot as plt\n",
    "from tensorflow.keras import Sequential\n",
    "from tensorflow.keras.layers import Dense, Dropout\n",
    "from sklearn.metrics import mean_squared_error, mean_absolute_error, r2_score\n",
    "from tensorboard.plugins.hparams import api as hp\n",
    "from tensorflow import keras\n",
    "import yfinance as yf"
   ]
  },
  {
   "cell_type": "code",
   "execution_count": 2,
   "metadata": {},
   "outputs": [
    {
     "name": "stderr",
     "output_type": "stream",
     "text": [
      "2023-01-18 21:34:11.426545: W tensorflow/compiler/xla/stream_executor/platform/default/dso_loader.cc:64] Could not load dynamic library 'libcuda.so.1'; dlerror: libcuda.so.1: cannot open shared object file: No such file or directory\n",
      "2023-01-18 21:34:11.426568: W tensorflow/compiler/xla/stream_executor/cuda/cuda_driver.cc:265] failed call to cuInit: UNKNOWN ERROR (303)\n",
      "2023-01-18 21:34:11.426584: I tensorflow/compiler/xla/stream_executor/cuda/cuda_diagnostics.cc:156] kernel driver does not appear to be running on this host (nba-176-w1a-pl): /proc/driver/nvidia/version does not exist\n",
      "2023-01-18 21:34:11.426807: I tensorflow/core/platform/cpu_feature_guard.cc:193] This TensorFlow binary is optimized with oneAPI Deep Neural Network Library (oneDNN) to use the following CPU instructions in performance-critical operations:  AVX2 AVX512F AVX512_VNNI FMA\n",
      "To enable them in other operations, rebuild TensorFlow with the appropriate compiler flags.\n"
     ]
    }
   ],
   "source": [
    "model = keras.models.load_model('model')"
   ]
  },
  {
   "cell_type": "code",
   "execution_count": null,
   "metadata": {},
   "outputs": [],
   "source": [
    "\n",
    "def prepare_prediction_data(open, close, high, low, volume, week_volume, month_volume, year_volume, week_close, month_close, year_close, close_day_before, close_week_before, close_month_before, close_year_before):\n",
    "    '''\n",
    "    POPRZEDNI DZIEŃ:\n",
    "    - cena otwarcia\n",
    "    - cena zamknięcia\n",
    "    - najwyższa cena\n",
    "    - najniższa cena\n",
    "    - ilość transakcji\n",
    "    - OSTATNI tydzień:\n",
    "    - cena zamknięcia\n",
    "    - ilość transakcji\n",
    "    - OSTATNI MIESIĄC:\n",
    "    - cena zamknięcia\n",
    "    - ilość transakcji\n",
    "    - OSTATNI ROK:\n",
    "    - cena zamknięcia\n",
    "    - ilość transakcji\n",
    "    '''\n",
    "    df_new = pd.DataFrame()\n",
    "    # 6 oryginalnych cech\n",
    "    df_new['open'] = close\n",
    "    df_new['open_1'] = open\n",
    "    df_new['close_1'] = close\n",
    "    df_new['high_1'] = high\n",
    "    df_new['low_1'] = low\n",
    "    df_new['volume_1'] = volume\n",
    "    # 31 wygenerowanych cech\n",
    "    # Średnie ceny\n",
    "    df_new['avg_price_5'] = np.mean(week_close)\n",
    "    df_new['avg_price_30'] = mean(month_close)\n",
    "    df_new['avg_price_365'] = mean(year_close)\n",
    "    df_new['ratio_avg_price_5_30'] = df_new['avg_price_5'] / df_new['avg_price_30']\n",
    "    df_new['ratio_avg_price_5_365'] = df_new['avg_price_5'] / df_new['avg_price_365']\n",
    "    df_new['ratio_avg_price_30_365'] = df_new['avg_price_30'] / df_new['avg_price_365']\n",
    "    # Średnie woluminy\n",
    "    df_new['avg_volume_5'] = mean(week_volume)\n",
    "    df_new['avg_volume_30'] = mean(month_volume)\n",
    "    df_new['avg_volume_365'] = mean(year_volume)\n",
    "    df_new['ratio_avg_volume_5_30'] = df_new['avg_volume_5'] / df_new['avg_volume_30']\n",
    "    df_new['ratio_avg_volume_5_365'] = df_new['avg_volume_5'] / df_new['avg_volume_365']\n",
    "    df_new['ratio_avg_volume_30_365'] = df_new['avg_volume_30'] / df_new['avg_volume_365']\n",
    "    # Odchylenia standardowe cen\n",
    "    df_new['std_price_5'] = stdev(week_close)\n",
    "    df_new['std_price_30'] = stdev(month_close)\n",
    "    df_new['std_price_365'] = stdev(year_close)\n",
    "    df_new['ratio_std_price_5_30'] = df_new['std_price_5'] / df_new['std_price_30']\n",
    "    df_new['ratio_std_price_5_365'] = df_new['std_price_5'] / df_new['std_price_365']\n",
    "    df_new['ratio_std_price_30_365'] = df_new['std_price_30'] / df_new['std_price_365']\n",
    "    # Odchylenia standardowe woluminów\n",
    "    df_new['std_volume_5'] = stdev(week_volume)\n",
    "    df_new['std_volume_30'] = stdev(month_volume)\n",
    "    df_new['std_volume_365'] = stdev(year_volume)\n",
    "    df_new['ratio_std_volume_5_30'] = df_new['std_volume_5'] / df_new['std_volume_30']\n",
    "    df_new['ratio_std_volume_5_365'] = df_new['std_volume_5'] / df_new['std_volume_365']\n",
    "    df_new['ratio_std_volume_30_365'] = df_new['std_volume_30'] / df_new['std_volume_365']\n",
    "    # Zwroty\n",
    "    df_new['return_1'] = (close - close_day_before) / close_day_before\n",
    "    df_new['return_5'] = (close - close_week_before) / close_week_before\n",
    "    df_new['return_30'] = (close - close_month_before) / close_month_before\n",
    "    df_new['return_365'] = (close - close_year_before) / close_year_before\n",
    "\n",
    "    week_close_return = [((x - week_close[index-1]) / week_close[index-1]) if index-1 >= 0 else 0 for index, x in enumerate(week_close)]\n",
    "    week_close_return_fix = [week_close_return[index+1] if week_close_return[index] == 0 else week_close_return[index] for index, x in enumerate(week_close_return)]\n",
    "    df_new['moving_avg_5'] = mean(week_close_return_fix)\n",
    "\n",
    "    month_close_return = [((x - month_close[index-1]) / month_close[index-1]) if index-1 >= 0 else 0 for index, x in enumerate(month_close)]\n",
    "    month_close_return_fix = [month_close_return[index+1] if month_close_return[index] == 0 else month_close_return[index] for index, x in enumerate(month_close_return)]\n",
    "    df_new['moving_avg_30'] = mean(month_close_return_fix)\n",
    "\n",
    "    year_close_return = [((x - year_close[index-1]) / year_close[index-1]) if index-1 >= 0 else 0 for index, x in enumerate(year_close)]\n",
    "    year_close_return_fix = [year_close_return[index+1] if year_close_return[index] == 0 else year_close_return[index] for index, x in enumerate(year_close_return)]\n",
    "    df_new['moving_avg_365'] = mean(year_close_return_fix)\n",
    "    # Wartości docelowe\n",
    "    df_new['close'] = close\n",
    "    print(df_new['avg_price_30'])\n",
    "    print(type(open))\n",
    "    return df_new"
   ]
  },
  {
   "cell_type": "code",
   "execution_count": null,
   "metadata": {},
   "outputs": [
    {
     "data": {
      "text/html": [
       "<div>\n",
       "<style scoped>\n",
       "    .dataframe tbody tr th:only-of-type {\n",
       "        vertical-align: middle;\n",
       "    }\n",
       "\n",
       "    .dataframe tbody tr th {\n",
       "        vertical-align: top;\n",
       "    }\n",
       "\n",
       "    .dataframe thead th {\n",
       "        text-align: right;\n",
       "    }\n",
       "</style>\n",
       "<table border=\"1\" class=\"dataframe\">\n",
       "  <thead>\n",
       "    <tr style=\"text-align: right;\">\n",
       "      <th></th>\n",
       "      <th>Open</th>\n",
       "      <th>High</th>\n",
       "      <th>Low</th>\n",
       "      <th>Close</th>\n",
       "      <th>Volume</th>\n",
       "    </tr>\n",
       "    <tr>\n",
       "      <th>Date</th>\n",
       "      <th></th>\n",
       "      <th></th>\n",
       "      <th></th>\n",
       "      <th></th>\n",
       "      <th></th>\n",
       "    </tr>\n",
       "  </thead>\n",
       "  <tbody>\n",
       "    <tr>\n",
       "      <th>2022-01-18 00:00:00-05:00</th>\n",
       "      <td>4632.240234</td>\n",
       "      <td>4632.240234</td>\n",
       "      <td>4568.700195</td>\n",
       "      <td>4577.109863</td>\n",
       "      <td>4748700000</td>\n",
       "    </tr>\n",
       "    <tr>\n",
       "      <th>2022-01-19 00:00:00-05:00</th>\n",
       "      <td>4588.029785</td>\n",
       "      <td>4611.549805</td>\n",
       "      <td>4530.200195</td>\n",
       "      <td>4532.759766</td>\n",
       "      <td>4465740000</td>\n",
       "    </tr>\n",
       "    <tr>\n",
       "      <th>2022-01-20 00:00:00-05:00</th>\n",
       "      <td>4547.350098</td>\n",
       "      <td>4602.109863</td>\n",
       "      <td>4477.950195</td>\n",
       "      <td>4482.729980</td>\n",
       "      <td>4640870000</td>\n",
       "    </tr>\n",
       "    <tr>\n",
       "      <th>2022-01-21 00:00:00-05:00</th>\n",
       "      <td>4471.379883</td>\n",
       "      <td>4494.520020</td>\n",
       "      <td>4395.339844</td>\n",
       "      <td>4397.939941</td>\n",
       "      <td>5589100000</td>\n",
       "    </tr>\n",
       "    <tr>\n",
       "      <th>2022-01-24 00:00:00-05:00</th>\n",
       "      <td>4356.319824</td>\n",
       "      <td>4417.350098</td>\n",
       "      <td>4222.620117</td>\n",
       "      <td>4410.129883</td>\n",
       "      <td>6928110000</td>\n",
       "    </tr>\n",
       "    <tr>\n",
       "      <th>...</th>\n",
       "      <td>...</td>\n",
       "      <td>...</td>\n",
       "      <td>...</td>\n",
       "      <td>...</td>\n",
       "      <td>...</td>\n",
       "    </tr>\n",
       "    <tr>\n",
       "      <th>2023-01-11 00:00:00-05:00</th>\n",
       "      <td>3932.350098</td>\n",
       "      <td>3970.070068</td>\n",
       "      <td>3928.540039</td>\n",
       "      <td>3969.610107</td>\n",
       "      <td>4303360000</td>\n",
       "    </tr>\n",
       "    <tr>\n",
       "      <th>2023-01-12 00:00:00-05:00</th>\n",
       "      <td>3977.570068</td>\n",
       "      <td>3997.760010</td>\n",
       "      <td>3937.560059</td>\n",
       "      <td>3983.169922</td>\n",
       "      <td>4440260000</td>\n",
       "    </tr>\n",
       "    <tr>\n",
       "      <th>2023-01-13 00:00:00-05:00</th>\n",
       "      <td>3960.600098</td>\n",
       "      <td>4003.949951</td>\n",
       "      <td>3947.669922</td>\n",
       "      <td>3999.090088</td>\n",
       "      <td>3939700000</td>\n",
       "    </tr>\n",
       "    <tr>\n",
       "      <th>2023-01-17 00:00:00-05:00</th>\n",
       "      <td>3999.280029</td>\n",
       "      <td>4015.389893</td>\n",
       "      <td>3984.570068</td>\n",
       "      <td>3990.969971</td>\n",
       "      <td>4235560000</td>\n",
       "    </tr>\n",
       "    <tr>\n",
       "      <th>2023-01-18 00:00:00-05:00</th>\n",
       "      <td>4002.250000</td>\n",
       "      <td>4014.159912</td>\n",
       "      <td>3939.080078</td>\n",
       "      <td>3947.659912</td>\n",
       "      <td>1528750000</td>\n",
       "    </tr>\n",
       "  </tbody>\n",
       "</table>\n",
       "<p>252 rows × 5 columns</p>\n",
       "</div>"
      ],
      "text/plain": [
       "                                  Open         High          Low        Close  \\\n",
       "Date                                                                            \n",
       "2022-01-18 00:00:00-05:00  4632.240234  4632.240234  4568.700195  4577.109863   \n",
       "2022-01-19 00:00:00-05:00  4588.029785  4611.549805  4530.200195  4532.759766   \n",
       "2022-01-20 00:00:00-05:00  4547.350098  4602.109863  4477.950195  4482.729980   \n",
       "2022-01-21 00:00:00-05:00  4471.379883  4494.520020  4395.339844  4397.939941   \n",
       "2022-01-24 00:00:00-05:00  4356.319824  4417.350098  4222.620117  4410.129883   \n",
       "...                                ...          ...          ...          ...   \n",
       "2023-01-11 00:00:00-05:00  3932.350098  3970.070068  3928.540039  3969.610107   \n",
       "2023-01-12 00:00:00-05:00  3977.570068  3997.760010  3937.560059  3983.169922   \n",
       "2023-01-13 00:00:00-05:00  3960.600098  4003.949951  3947.669922  3999.090088   \n",
       "2023-01-17 00:00:00-05:00  3999.280029  4015.389893  3984.570068  3990.969971   \n",
       "2023-01-18 00:00:00-05:00  4002.250000  4014.159912  3939.080078  3947.659912   \n",
       "\n",
       "                               Volume  \n",
       "Date                                   \n",
       "2022-01-18 00:00:00-05:00  4748700000  \n",
       "2022-01-19 00:00:00-05:00  4465740000  \n",
       "2022-01-20 00:00:00-05:00  4640870000  \n",
       "2022-01-21 00:00:00-05:00  5589100000  \n",
       "2022-01-24 00:00:00-05:00  6928110000  \n",
       "...                               ...  \n",
       "2023-01-11 00:00:00-05:00  4303360000  \n",
       "2023-01-12 00:00:00-05:00  4440260000  \n",
       "2023-01-13 00:00:00-05:00  3939700000  \n",
       "2023-01-17 00:00:00-05:00  4235560000  \n",
       "2023-01-18 00:00:00-05:00  1528750000  \n",
       "\n",
       "[252 rows x 5 columns]"
      ]
     },
     "metadata": {},
     "output_type": "display_data"
    }
   ],
   "source": [
    "gspc = yf.Ticker(\"^GSPC\")\n",
    "data_raw = gspc.history(period=\"1y\")\n",
    "data_raw = data_raw[[\"Open\", \"High\", \"Low\", \"Close\", \"Volume\"]]\n",
    "data_raw"
   ]
  },
  {
   "cell_type": "code",
   "execution_count": null,
   "metadata": {},
   "outputs": [
    {
     "data": {
      "text/plain": [
       "[3969.610107421875,\n",
       " 3983.169921875,\n",
       " 3999.090087890625,\n",
       " 3990.969970703125,\n",
       " 3947.659912109375]"
      ]
     },
     "metadata": {},
     "output_type": "display_data"
    }
   ],
   "source": [
    "data_raw[\"Close\"].iloc[-5:].tolist()"
   ]
  },
  {
   "cell_type": "code",
   "execution_count": null,
   "metadata": {},
   "outputs": [],
   "source": [
    "open = data_raw[\"Open\"].iloc[-1].item()\n",
    "close = data_raw[\"Close\"].iloc[-1].item()\n",
    "high = data_raw[\"High\"].iloc[-1].item()\n",
    "low = data_raw[\"Low\"].iloc[-1].item()\n",
    "\n",
    "volume = data_raw[\"Volume\"].iloc[-1].tolist()\n",
    "week_volume = data_raw[\"Volume\"].iloc[-5:].tolist()\n",
    "month_volume = data_raw[\"Volume\"].iloc[-21:].tolist()\n",
    "year_volume = data_raw[\"Volume\"].iloc[-252:].tolist()\n",
    "\n",
    "week_close = data_raw[\"Close\"].iloc[-5:].tolist()\n",
    "month_close = data_raw[\"Close\"].iloc[-252:].tolist()\n",
    "year_close = data_raw[\"Close\"].iloc[-252:].tolist()\n",
    "\n",
    "close_day_before = data_raw[\"Close\"].iloc[-2].item()\n",
    "close_week_before = data_raw[\"Close\"].iloc[-5].item()\n",
    "close_month_before = data_raw[\"Close\"].iloc[-21].item()\n",
    "close_year_before = data_raw[\"Close\"].iloc[-252].item()"
   ]
  },
  {
   "cell_type": "code",
   "execution_count": null,
   "metadata": {},
   "outputs": [
    {
     "name": "stdout",
     "output_type": "stream",
     "text": [
      "Series([], Name: avg_price_30, dtype: float64)\n",
      "<class 'float'>\n"
     ]
    },
    {
     "data": {
      "text/html": [
       "<div>\n",
       "<style scoped>\n",
       "    .dataframe tbody tr th:only-of-type {\n",
       "        vertical-align: middle;\n",
       "    }\n",
       "\n",
       "    .dataframe tbody tr th {\n",
       "        vertical-align: top;\n",
       "    }\n",
       "\n",
       "    .dataframe thead th {\n",
       "        text-align: right;\n",
       "    }\n",
       "</style>\n",
       "<table border=\"1\" class=\"dataframe\">\n",
       "  <thead>\n",
       "    <tr style=\"text-align: right;\">\n",
       "      <th></th>\n",
       "      <th>open</th>\n",
       "      <th>open_1</th>\n",
       "      <th>close_1</th>\n",
       "      <th>high_1</th>\n",
       "      <th>low_1</th>\n",
       "      <th>volume_1</th>\n",
       "      <th>avg_price_5</th>\n",
       "      <th>avg_price_30</th>\n",
       "      <th>avg_price_365</th>\n",
       "      <th>ratio_avg_price_5_30</th>\n",
       "      <th>...</th>\n",
       "      <th>ratio_std_volume_5_365</th>\n",
       "      <th>ratio_std_volume_30_365</th>\n",
       "      <th>return_1</th>\n",
       "      <th>return_5</th>\n",
       "      <th>return_30</th>\n",
       "      <th>return_365</th>\n",
       "      <th>moving_avg_5</th>\n",
       "      <th>moving_avg_30</th>\n",
       "      <th>moving_avg_365</th>\n",
       "      <th>close</th>\n",
       "    </tr>\n",
       "  </thead>\n",
       "  <tbody>\n",
       "  </tbody>\n",
       "</table>\n",
       "<p>0 rows × 38 columns</p>\n",
       "</div>"
      ],
      "text/plain": [
       "Empty DataFrame\n",
       "Columns: [open, open_1, close_1, high_1, low_1, volume_1, avg_price_5, avg_price_30, avg_price_365, ratio_avg_price_5_30, ratio_avg_price_5_365, ratio_avg_price_30_365, avg_volume_5, avg_volume_30, avg_volume_365, ratio_avg_volume_5_30, ratio_avg_volume_5_365, ratio_avg_volume_30_365, std_price_5, std_price_30, std_price_365, ratio_std_price_5_30, ratio_std_price_5_365, ratio_std_price_30_365, std_volume_5, std_volume_30, std_volume_365, ratio_std_volume_5_30, ratio_std_volume_5_365, ratio_std_volume_30_365, return_1, return_5, return_30, return_365, moving_avg_5, moving_avg_30, moving_avg_365, close]\n",
       "Index: []\n",
       "\n",
       "[0 rows x 38 columns]"
      ]
     },
     "metadata": {},
     "output_type": "display_data"
    }
   ],
   "source": [
    "prepare_prediction_data(open, close, high, low, volume, week_volume, month_volume, year_volume, week_close, month_close, year_close, close_day_before, close_week_before, close_month_before, close_year_before)"
   ]
  },
  {
   "cell_type": "code",
   "execution_count": null,
   "metadata": {},
   "outputs": [
    {
     "data": {
      "text/plain": [
       "[5.0, 5.0, -0.8333333333333334, 7.0, -0.375]"
      ]
     },
     "metadata": {},
     "output_type": "display_data"
    }
   ],
   "source": [
    "from statistics import mean\n",
    "lsita = [1,6,1,8,5]\n",
    "lista2= [((x - lsita[index-1]) / lsita[index-1]) if index-1 >= 0 else 0 for index, x in enumerate(lsita)]\n",
    "[lista2[index+1] if lista2[index] == 0 else lista2[index] for index, x in enumerate(lista2)]\n",
    "# for index, x in enumerate(lsita):\n",
    "#     print((lsita[index-1]))\n"
   ]
  },
  {
   "cell_type": "code",
   "execution_count": null,
   "metadata": {},
   "outputs": [
    {
     "data": {
      "text/plain": [
       "1"
      ]
     },
     "metadata": {},
     "output_type": "display_data"
    }
   ],
   "source": [
    "mean([1])"
   ]
  }
 ],
 "metadata": {
  "kernelspec": {
   "display_name": ".venv",
   "language": "python",
   "name": "python3"
  },
  "language_info": {
   "codemirror_mode": {
    "name": "ipython",
    "version": 3
   },
   "file_extension": ".py",
   "mimetype": "text/x-python",
   "name": "python",
   "nbconvert_exporter": "python",
   "pygments_lexer": "ipython3",
   "version": "3.9.15"
  },
  "orig_nbformat": 4,
  "vscode": {
   "interpreter": {
    "hash": "18946da7109078fc1cf2938fd0bdc2447e68e49c6af71d7b6f3d5e63142e96a5"
   }
  }
 },
 "nbformat": 4,
 "nbformat_minor": 2
}
